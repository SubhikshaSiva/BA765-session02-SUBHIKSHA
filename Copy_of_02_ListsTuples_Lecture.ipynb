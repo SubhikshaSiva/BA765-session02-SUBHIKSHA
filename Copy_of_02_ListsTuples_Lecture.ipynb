{
  "nbformat": 4,
  "nbformat_minor": 0,
  "metadata": {
    "colab": {
      "name": "Copy of 02-ListsTuples_Lecture.ipynb",
      "provenance": [],
      "collapsed_sections": [
        "YVyyI_3iNez1"
      ],
      "include_colab_link": true
    },
    "kernelspec": {
      "name": "python3",
      "display_name": "Python 3"
    },
    "language_info": {
      "name": "python"
    }
  },
  "cells": [
    {
      "cell_type": "markdown",
      "metadata": {
        "id": "view-in-github",
        "colab_type": "text"
      },
      "source": [
        "<a href=\"https://colab.research.google.com/github/SubhikshaSiva/BA765-session02-SUBHIKSHA/blob/main/Copy_of_02_ListsTuples_Lecture.ipynb\" target=\"_parent\"><img src=\"https://colab.research.google.com/assets/colab-badge.svg\" alt=\"Open In Colab\"/></a>"
      ]
    },
    {
      "cell_type": "markdown",
      "metadata": {
        "id": "Y5lofjj6AXAq"
      },
      "source": [
        "#Lists and Tuples\n",
        "\n",
        "**Lists:** Holds multiple elements of various kinds, one of the built in structures to store collections of data. They are ordered and changeable. \n",
        "\n",
        "Lists are commonly used, has many interesting methods. \n",
        "\n",
        "**Tuples:** Holds multiple elements like lists, ordered but not changable. Not as commonly used by the end developer but often a part of the class methods. "
      ]
    },
    {
      "cell_type": "markdown",
      "metadata": {
        "id": "mPeB2sc0EJsQ"
      },
      "source": [
        "## Tuples"
      ]
    },
    {
      "cell_type": "code",
      "metadata": {
        "id": "l3EX-WA6_52R"
      },
      "source": [
        "tup = (1,2,3,3)"
      ],
      "execution_count": null,
      "outputs": []
    },
    {
      "cell_type": "code",
      "metadata": {
        "id": "RCPPUCQoBu_w",
        "colab": {
          "base_uri": "https://localhost:8080/"
        },
        "outputId": "058a06b5-0a9f-480e-bea0-b48a53cc7fc9"
      },
      "source": [
        "type(tup)"
      ],
      "execution_count": null,
      "outputs": [
        {
          "output_type": "execute_result",
          "data": {
            "text/plain": [
              "tuple"
            ]
          },
          "metadata": {
            "tags": []
          },
          "execution_count": 80
        }
      ]
    },
    {
      "cell_type": "code",
      "metadata": {
        "id": "fVyUlswxBwdr",
        "colab": {
          "base_uri": "https://localhost:8080/"
        },
        "outputId": "54d35f67-9e26-4781-bd1e-823c8f40988d"
      },
      "source": [
        "len(tup)"
      ],
      "execution_count": null,
      "outputs": [
        {
          "output_type": "execute_result",
          "data": {
            "text/plain": [
              "4"
            ]
          },
          "metadata": {
            "tags": []
          },
          "execution_count": 81
        }
      ]
    },
    {
      "cell_type": "code",
      "metadata": {
        "id": "ABdlzbDFCKtB",
        "colab": {
          "base_uri": "https://localhost:8080/"
        },
        "outputId": "d5f0d083-352e-4230-eaee-3bea6843782a"
      },
      "source": [
        "# tuples have interesting methods:\n",
        "#\n",
        "# tuples allow duplicates:\n",
        "print(tup.count(3))\n",
        "# tuples are indexed:\n",
        "print(tup.index(2))\n",
        "#indexing starts from 0 , so 2 is present in the 1st position"
      ],
      "execution_count": null,
      "outputs": [
        {
          "output_type": "stream",
          "text": [
            "2\n",
            "1\n"
          ],
          "name": "stdout"
        }
      ]
    },
    {
      "cell_type": "markdown",
      "metadata": {
        "id": "p29VIA8eDfgW"
      },
      "source": [
        "Here is another way to define tuples:\n",
        "\n",
        "\n",
        "```\n",
        "tup2 = 1,1,1,2,3,3\n",
        "```\n",
        "\n",
        "But you don't know me yet and shouldn't trust everything I say and check for yourself :)\n"
      ]
    },
    {
      "cell_type": "code",
      "metadata": {
        "id": "Fod8PmuxDCUQ"
      },
      "source": [
        "# define the tuple as shown above:\n",
        "tup2 = 1,1,1,2,3,3"
      ],
      "execution_count": null,
      "outputs": []
    },
    {
      "cell_type": "code",
      "metadata": {
        "id": "CyisAXkEDMiB",
        "colab": {
          "base_uri": "https://localhost:8080/"
        },
        "outputId": "4bdb6345-644a-4f14-d6b1-c3961711d0a2"
      },
      "source": [
        "# check its type\n",
        "type(tup2)"
      ],
      "execution_count": null,
      "outputs": [
        {
          "output_type": "execute_result",
          "data": {
            "text/plain": [
              "tuple"
            ]
          },
          "metadata": {
            "tags": []
          },
          "execution_count": 84
        }
      ]
    },
    {
      "cell_type": "code",
      "metadata": {
        "id": "Pn5lR1FLD1QD",
        "colab": {
          "base_uri": "https://localhost:8080/"
        },
        "outputId": "3739394b-06a0-46ad-cf8e-9ef09b814696"
      },
      "source": [
        "# check its values\n",
        "print(tup2)"
      ],
      "execution_count": null,
      "outputs": [
        {
          "output_type": "stream",
          "text": [
            "(1, 1, 1, 2, 3, 3)\n"
          ],
          "name": "stdout"
        }
      ]
    },
    {
      "cell_type": "code",
      "metadata": {
        "id": "J9zBvuCdEAdS",
        "colab": {
          "base_uri": "https://localhost:8080/"
        },
        "outputId": "d2c81e8c-71d0-4016-d7c8-632a409ec88f"
      },
      "source": [
        "# count the ones in it\n",
        "print(tup2.count(1))"
      ],
      "execution_count": null,
      "outputs": [
        {
          "output_type": "stream",
          "text": [
            "3\n"
          ],
          "name": "stdout"
        }
      ]
    },
    {
      "cell_type": "markdown",
      "metadata": {
        "id": "JnViVSTMEORp"
      },
      "source": [
        "## Lists"
      ]
    },
    {
      "cell_type": "code",
      "metadata": {
        "id": "5hX4xfrJER_8",
        "colab": {
          "base_uri": "https://localhost:8080/"
        },
        "outputId": "e695b6db-9951-4441-e478-dc0ffe83ce69"
      },
      "source": [
        "x= [1,2,3]\n",
        "type(x)"
      ],
      "execution_count": null,
      "outputs": [
        {
          "output_type": "execute_result",
          "data": {
            "text/plain": [
              "list"
            ]
          },
          "metadata": {
            "tags": []
          },
          "execution_count": 87
        }
      ]
    },
    {
      "cell_type": "code",
      "metadata": {
        "id": "vrQgrMu1EbrI",
        "colab": {
          "base_uri": "https://localhost:8080/"
        },
        "outputId": "8ef96846-c68d-4899-df69-50477c451999"
      },
      "source": [
        "x"
      ],
      "execution_count": null,
      "outputs": [
        {
          "output_type": "execute_result",
          "data": {
            "text/plain": [
              "[1, 2, 3]"
            ]
          },
          "metadata": {
            "tags": []
          },
          "execution_count": 88
        }
      ]
    },
    {
      "cell_type": "code",
      "metadata": {
        "id": "_viIePC1Ed4Z"
      },
      "source": [
        "y= ['a', 1, 2.3, True]"
      ],
      "execution_count": null,
      "outputs": []
    },
    {
      "cell_type": "code",
      "metadata": {
        "id": "QA8xpy-lEo25",
        "colab": {
          "base_uri": "https://localhost:8080/"
        },
        "outputId": "78eed232-4d34-46a2-b297-6165a118476c"
      },
      "source": [
        "type(y)"
      ],
      "execution_count": null,
      "outputs": [
        {
          "output_type": "execute_result",
          "data": {
            "text/plain": [
              "list"
            ]
          },
          "metadata": {
            "tags": []
          },
          "execution_count": 90
        }
      ]
    },
    {
      "cell_type": "markdown",
      "metadata": {
        "id": "rjgX7tqJE34B"
      },
      "source": [
        "I wonder, can lists host other lists, i.e. nested lists?"
      ]
    },
    {
      "cell_type": "code",
      "metadata": {
        "id": "_uVqfEepE77e"
      },
      "source": [
        "z= [1, 2, 3 , y , 'b']\n",
        "#yes, nested lists are possible"
      ],
      "execution_count": null,
      "outputs": []
    },
    {
      "cell_type": "code",
      "metadata": {
        "id": "lkLP45x2FDXc",
        "colab": {
          "base_uri": "https://localhost:8080/"
        },
        "outputId": "fdbc8f3a-fccc-472d-bb51-2a7627dd4032"
      },
      "source": [
        "z"
      ],
      "execution_count": null,
      "outputs": [
        {
          "output_type": "execute_result",
          "data": {
            "text/plain": [
              "[1, 2, 3, ['a', 1, 2.3, True], 'b']"
            ]
          },
          "metadata": {
            "tags": []
          },
          "execution_count": 92
        }
      ]
    },
    {
      "cell_type": "markdown",
      "metadata": {
        "id": "gMfqI5NuGCfV"
      },
      "source": [
        "#### Quick exercise"
      ]
    },
    {
      "cell_type": "code",
      "metadata": {
        "id": "YXV0j0odFEMP",
        "colab": {
          "base_uri": "https://localhost:8080/"
        },
        "outputId": "8a7d5591-5170-4c8e-d58c-1b25e4396a96"
      },
      "source": [
        "# How many elements does z have? \n",
        "#(you can use a function you learnt for strings to answer this)\n",
        "print(len(z))\n",
        "\n",
        "# your code here"
      ],
      "execution_count": null,
      "outputs": [
        {
          "output_type": "stream",
          "text": [
            "5\n"
          ],
          "name": "stdout"
        }
      ]
    },
    {
      "cell_type": "code",
      "metadata": {
        "id": "ucVGpVMaF5CY",
        "colab": {
          "base_uri": "https://localhost:8080/"
        },
        "outputId": "da3df0c6-dbb7-4ff7-ce75-0c12b53ae2c9"
      },
      "source": [
        "# How many 1s are there in z?\n",
        "print(z.count(1))\n",
        "\n",
        "#your code here"
      ],
      "execution_count": null,
      "outputs": [
        {
          "output_type": "stream",
          "text": [
            "1\n"
          ],
          "name": "stdout"
        }
      ]
    },
    {
      "cell_type": "markdown",
      "metadata": {
        "id": "Kde7EdszFdoX"
      },
      "source": [
        "## List methods\n",
        "Lists have many more methods than tuples. \n",
        "\n",
        "While exploring those, let's see some other useful functions as we go:"
      ]
    },
    {
      "cell_type": "code",
      "metadata": {
        "id": "Cb9PREdLFF74"
      },
      "source": [
        "tmp = list(range(1,12,2))"
      ],
      "execution_count": null,
      "outputs": []
    },
    {
      "cell_type": "code",
      "metadata": {
        "id": "peTDzFAWF0Ra",
        "colab": {
          "base_uri": "https://localhost:8080/"
        },
        "outputId": "7fdbe2ba-d8fc-470f-fc01-6e870a62292b"
      },
      "source": [
        "tmp"
      ],
      "execution_count": null,
      "outputs": [
        {
          "output_type": "execute_result",
          "data": {
            "text/plain": [
              "[1, 3, 5, 7, 9, 11]"
            ]
          },
          "metadata": {
            "tags": []
          },
          "execution_count": 155
        }
      ]
    },
    {
      "cell_type": "code",
      "metadata": {
        "id": "2nJvUmVNHCqD",
        "colab": {
          "base_uri": "https://localhost:8080/"
        },
        "outputId": "1f29d396-fde9-451c-d8c7-f1ea0584e19d"
      },
      "source": [
        "# can we add the last number or take out the first one?\n",
        "#for appending\n",
        "tmp.append(24)\n",
        "tmp\n",
        "# my code here\n",
        "tmp.pop(0)\n",
        "print(tmp)"
      ],
      "execution_count": null,
      "outputs": [
        {
          "output_type": "stream",
          "text": [
            "[3, 5, 7, 9, 11, 24]\n"
          ],
          "name": "stdout"
        }
      ]
    },
    {
      "cell_type": "code",
      "metadata": {
        "id": "guIe6ZbjHfKK",
        "colab": {
          "base_uri": "https://localhost:8080/"
        },
        "outputId": "4db0b577-4d0a-4935-bedb-152e44f56f7d"
      },
      "source": [
        "# let's do sth similar with strings:\n",
        "x = ['a', 'b', 'c']\n",
        "x.pop(0)\n",
        "print(x)\n",
        "#if no index is specified in pop, it will pop from the end"
      ],
      "execution_count": null,
      "outputs": [
        {
          "output_type": "stream",
          "text": [
            "['b', 'c']\n"
          ],
          "name": "stdout"
        }
      ]
    },
    {
      "cell_type": "code",
      "metadata": {
        "id": "Nys7FKVQHmuu",
        "colab": {
          "base_uri": "https://localhost:8080/"
        },
        "outputId": "7b6051e7-8c7a-4703-acad-c85ae7ba10a6"
      },
      "source": [
        "x.append(4)\n",
        "print(x)"
      ],
      "execution_count": null,
      "outputs": [
        {
          "output_type": "stream",
          "text": [
            "['b', 'c', 4]\n"
          ],
          "name": "stdout"
        }
      ]
    },
    {
      "cell_type": "code",
      "metadata": {
        "id": "rLqvfsR1Hq8s",
        "colab": {
          "base_uri": "https://localhost:8080/"
        },
        "outputId": "05465a87-8ad0-4897-e643-0a6e2ab57fd6"
      },
      "source": [
        "# can we append to an empty list?\n",
        "tmp2 = []\n",
        "tmp2.append('will it work?')\n",
        "tmp2"
      ],
      "execution_count": null,
      "outputs": [
        {
          "output_type": "execute_result",
          "data": {
            "text/plain": [
              "['will it work?']"
            ]
          },
          "metadata": {
            "tags": []
          },
          "execution_count": 159
        }
      ]
    },
    {
      "cell_type": "code",
      "metadata": {
        "id": "i5T2lt6WHyyA",
        "colab": {
          "base_uri": "https://localhost:8080/"
        },
        "outputId": "6b87d9cf-7a64-42fc-8d38-ed09bb3896ba"
      },
      "source": [
        "# let's make this list a bit longer\n",
        "tmp2 += x\n",
        "tmp2"
      ],
      "execution_count": null,
      "outputs": [
        {
          "output_type": "execute_result",
          "data": {
            "text/plain": [
              "['will it work?', 'b', 'c', 4]"
            ]
          },
          "metadata": {
            "tags": []
          },
          "execution_count": 160
        }
      ]
    },
    {
      "cell_type": "code",
      "metadata": {
        "id": "1LtkVf2xIV_d",
        "colab": {
          "base_uri": "https://localhost:8080/"
        },
        "outputId": "4ab077c9-9f41-41ce-87f8-81f99df7496d"
      },
      "source": [
        "# let's remove some elements\n",
        "tmp2.pop()"
      ],
      "execution_count": null,
      "outputs": [
        {
          "output_type": "execute_result",
          "data": {
            "text/plain": [
              "4"
            ]
          },
          "metadata": {
            "tags": []
          },
          "execution_count": 161
        }
      ]
    },
    {
      "cell_type": "code",
      "metadata": {
        "id": "SHjdc-MqIsFv",
        "colab": {
          "base_uri": "https://localhost:8080/"
        },
        "outputId": "784a8c75-ec2c-42ec-884a-1595660ba589"
      },
      "source": [
        "tmp2"
      ],
      "execution_count": null,
      "outputs": [
        {
          "output_type": "execute_result",
          "data": {
            "text/plain": [
              "['will it work?', 'b', 'c']"
            ]
          },
          "metadata": {
            "tags": []
          },
          "execution_count": 162
        }
      ]
    },
    {
      "cell_type": "code",
      "metadata": {
        "id": "E_a_QQYSIt1i"
      },
      "source": [
        "# Try the other following methods \n",
        "# what do they do?\n",
        "#\n",
        "# mylist.clear()\n",
        "# mylist.remove()\n",
        "mylist=[1,2,3,4]\n",
        "mylist.clear()\n",
        "mylist\n",
        "mylist1 = ['apple','orange','banana']\n",
        "mylist1.remove('apple')"
      ],
      "execution_count": null,
      "outputs": []
    },
    {
      "cell_type": "markdown",
      "metadata": {
        "id": "o_1muTaJJSPJ"
      },
      "source": [
        "## Indexing/Slicing"
      ]
    },
    {
      "cell_type": "code",
      "metadata": {
        "id": "CfLb4dmII70_"
      },
      "source": [
        "slicer = [1,5,6,7,8]"
      ],
      "execution_count": null,
      "outputs": []
    },
    {
      "cell_type": "code",
      "metadata": {
        "id": "bT9XHnG_JhJZ",
        "colab": {
          "base_uri": "https://localhost:8080/"
        },
        "outputId": "a2455cc3-8fa4-456b-e4b0-89b2d63f692d"
      },
      "source": [
        "#How to access to data with its address\n",
        "slicer[0]"
      ],
      "execution_count": null,
      "outputs": [
        {
          "output_type": "execute_result",
          "data": {
            "text/plain": [
              "1"
            ]
          },
          "metadata": {
            "tags": []
          },
          "execution_count": 165
        }
      ]
    },
    {
      "cell_type": "code",
      "metadata": {
        "id": "vdxE2M8jJzS-",
        "colab": {
          "base_uri": "https://localhost:8080/"
        },
        "outputId": "ecd8ded3-9e7a-4827-ae2a-5570c46661f9"
      },
      "source": [
        "#can you guess what the following line will return?\n",
        "slicer[2]**2"
      ],
      "execution_count": null,
      "outputs": [
        {
          "output_type": "execute_result",
          "data": {
            "text/plain": [
              "36"
            ]
          },
          "metadata": {
            "tags": []
          },
          "execution_count": 166
        }
      ]
    },
    {
      "cell_type": "code",
      "metadata": {
        "id": "aSzZAIWhJ-bg",
        "colab": {
          "base_uri": "https://localhost:8080/"
        },
        "outputId": "1e8ae4af-072e-409c-83be-dcdc6a70322f"
      },
      "source": [
        "#python allows access from the reverse order too!\n",
        "slicer[-1]"
      ],
      "execution_count": null,
      "outputs": [
        {
          "output_type": "execute_result",
          "data": {
            "text/plain": [
              "8"
            ]
          },
          "metadata": {
            "tags": []
          },
          "execution_count": 167
        }
      ]
    },
    {
      "cell_type": "code",
      "metadata": {
        "id": "WJiQaOfkKEAz",
        "colab": {
          "base_uri": "https://localhost:8080/"
        },
        "outputId": "a31b9289-4c67-4260-e7a3-7eb43c03c115"
      },
      "source": [
        "#Note that not all languages start indexing from 0\n",
        "# indeed this about python often causes a well known bug :)\n",
        "len(slicer)"
      ],
      "execution_count": null,
      "outputs": [
        {
          "output_type": "execute_result",
          "data": {
            "text/plain": [
              "5"
            ]
          },
          "metadata": {
            "tags": []
          },
          "execution_count": 168
        }
      ]
    },
    {
      "cell_type": "code",
      "metadata": {
        "id": "dr-fOgAnKaI3",
        "colab": {
          "base_uri": "https://localhost:8080/"
        },
        "outputId": "bf55af62-3876-4064-8463-d28e017f315c"
      },
      "source": [
        "print(slicer[len(slicer)-1])\n",
        "#slicer[len(slicer)] just this wont work as slicer[5] is not present \n",
        "print(slicer[-len(slicer)])"
      ],
      "execution_count": null,
      "outputs": [
        {
          "output_type": "stream",
          "text": [
            "8\n",
            "1\n"
          ],
          "name": "stdout"
        }
      ]
    },
    {
      "cell_type": "markdown",
      "metadata": {
        "id": "LyFoMqjpKyNM"
      },
      "source": [
        "## Range selection"
      ]
    },
    {
      "cell_type": "code",
      "metadata": {
        "id": "_cSoD60TKeLf",
        "colab": {
          "base_uri": "https://localhost:8080/"
        },
        "outputId": "8ca917eb-1a22-469b-9f67-1a42eb052284"
      },
      "source": [
        "print(slicer)\n",
        "slicer[0:2]"
      ],
      "execution_count": null,
      "outputs": [
        {
          "output_type": "stream",
          "text": [
            "[1, 5, 6, 7, 8]\n"
          ],
          "name": "stdout"
        },
        {
          "output_type": "execute_result",
          "data": {
            "text/plain": [
              "[1, 5]"
            ]
          },
          "metadata": {
            "tags": []
          },
          "execution_count": 170
        }
      ]
    },
    {
      "cell_type": "code",
      "metadata": {
        "id": "bIXHVcVbK9sF",
        "colab": {
          "base_uri": "https://localhost:8080/"
        },
        "outputId": "9e4d53dc-81a1-4162-c449-1138f721bf55"
      },
      "source": [
        "slicer[1:3]"
      ],
      "execution_count": null,
      "outputs": [
        {
          "output_type": "execute_result",
          "data": {
            "text/plain": [
              "[5, 6]"
            ]
          },
          "metadata": {
            "tags": []
          },
          "execution_count": 171
        }
      ]
    },
    {
      "cell_type": "code",
      "metadata": {
        "id": "nMKZ64aZLDCd",
        "colab": {
          "base_uri": "https://localhost:8080/",
          "height": 52
        },
        "outputId": "bb02b11a-5c7d-4578-882e-709666bfe7d4"
      },
      "source": [
        "myword = \"programming\"\n",
        "print(len(myword))\n",
        "myword[0:3]"
      ],
      "execution_count": null,
      "outputs": [
        {
          "output_type": "stream",
          "text": [
            "11\n"
          ],
          "name": "stdout"
        },
        {
          "output_type": "execute_result",
          "data": {
            "application/vnd.google.colaboratory.intrinsic+json": {
              "type": "string"
            },
            "text/plain": [
              "'pro'"
            ]
          },
          "metadata": {
            "tags": []
          },
          "execution_count": 172
        }
      ]
    },
    {
      "cell_type": "code",
      "metadata": {
        "id": "NQctbGRLLJu6",
        "colab": {
          "base_uri": "https://localhost:8080/",
          "height": 35
        },
        "outputId": "b34a7f33-0150-4527-bab7-e033b0e55fa2"
      },
      "source": [
        "# will this work, or give an index error?\n",
        "myword[0:21]"
      ],
      "execution_count": null,
      "outputs": [
        {
          "output_type": "execute_result",
          "data": {
            "application/vnd.google.colaboratory.intrinsic+json": {
              "type": "string"
            },
            "text/plain": [
              "'programming'"
            ]
          },
          "metadata": {
            "tags": []
          },
          "execution_count": 173
        }
      ]
    },
    {
      "cell_type": "code",
      "metadata": {
        "colab": {
          "base_uri": "https://localhost:8080/"
        },
        "id": "_Wcj8m7dLTbK",
        "outputId": "884a95d2-4221-4b7a-ef42-809286e48884"
      },
      "source": [
        "#Try the following, see what they do:\n",
        "myword = 'programming'\n",
        "print(myword[:])\n",
        "print(myword[8:])\n",
        "print(myword[:3])\n",
        "print(myword[3:7])\n",
        "print(myword[:-8])\n",
        "print(myword[-11:])\n",
        "print(myword[::-1])\n",
        "print(myword[-9:-5])"
      ],
      "execution_count": null,
      "outputs": [
        {
          "output_type": "stream",
          "text": [
            "programming\n",
            "ing\n",
            "pro\n",
            "gram\n",
            "pro\n",
            "programming\n",
            "gnimmargorp\n",
            "ogra\n"
          ],
          "name": "stdout"
        }
      ]
    },
    {
      "cell_type": "code",
      "metadata": {
        "colab": {
          "base_uri": "https://localhost:8080/"
        },
        "id": "9t8AE-TxL0C4",
        "outputId": "e3a0d93e-95fc-48e6-f940-adfc5bb3781a"
      },
      "source": [
        "#knowing how to reverse can get handy:\n",
        "print(x)\n",
        "x.reverse()\n",
        "print(x)"
      ],
      "execution_count": null,
      "outputs": [
        {
          "output_type": "stream",
          "text": [
            "['b', 'c', 4]\n",
            "[4, 'c', 'b']\n"
          ],
          "name": "stdout"
        }
      ]
    },
    {
      "cell_type": "markdown",
      "metadata": {
        "id": "YVyyI_3iNez1"
      },
      "source": [
        "### Quick exercise:\n",
        "1.  Define a new string \"I started to like this course\".\n",
        "2.  Split the string by using space as the delimeter, and assing the output to a list\n",
        "3.  Print the first element of the list\n",
        "4.  Print the last element of the list\n",
        "5.  Print the list reversed\n",
        "6.  Print the second and third element of the list"
      ]
    },
    {
      "cell_type": "markdown",
      "metadata": {
        "id": "QQPou7PFOsvc"
      },
      "source": [
        "### Even quicker exercise\n",
        "\n",
        "1.  make a list that looks like `x=[2,3,...,30]`\n",
        "2.  print the first 2, last 2, and 12th elements\n",
        "3.  reverse the values of the list in place"
      ]
    },
    {
      "cell_type": "code",
      "metadata": {
        "colab": {
          "base_uri": "https://localhost:8080/"
        },
        "id": "WzOyYMlTRK8g",
        "outputId": "7697a7cd-212a-414a-a139-fdb6ac7c73ac"
      },
      "source": [
        "# One important nuance before we wrap this up\n",
        "# make sure to check the type of what your commands return:\n",
        "tmp"
      ],
      "execution_count": null,
      "outputs": [
        {
          "output_type": "execute_result",
          "data": {
            "text/plain": [
              "[3, 5, 7, 9, 11, 24]"
            ]
          },
          "metadata": {
            "tags": []
          },
          "execution_count": 176
        }
      ]
    },
    {
      "cell_type": "code",
      "metadata": {
        "colab": {
          "base_uri": "https://localhost:8080/"
        },
        "id": "VLbsiyRSRSeR",
        "outputId": "25650a1d-f3b7-4225-bbb5-76de4d3b226f"
      },
      "source": [
        "tmp[0]\n"
      ],
      "execution_count": null,
      "outputs": [
        {
          "output_type": "execute_result",
          "data": {
            "text/plain": [
              "3"
            ]
          },
          "metadata": {
            "tags": []
          },
          "execution_count": 177
        }
      ]
    },
    {
      "cell_type": "code",
      "metadata": {
        "colab": {
          "base_uri": "https://localhost:8080/"
        },
        "id": "qvc0gZvnRVcJ",
        "outputId": "4e02c381-1c1f-40e8-f56e-9347a898c1af"
      },
      "source": [
        "tmp[:1]"
      ],
      "execution_count": null,
      "outputs": [
        {
          "output_type": "execute_result",
          "data": {
            "text/plain": [
              "[3]"
            ]
          },
          "metadata": {
            "tags": []
          },
          "execution_count": 178
        }
      ]
    },
    {
      "cell_type": "markdown",
      "metadata": {
        "id": "l6b44OBdSPa2"
      },
      "source": [
        "## Insert and Extend "
      ]
    },
    {
      "cell_type": "code",
      "metadata": {
        "id": "m7pbVStbSR9O"
      },
      "source": [
        "# Insert an element at a position\n",
        "mylist = [0,1,2,3]\n",
        "mylist2= [4,5,6]"
      ],
      "execution_count": null,
      "outputs": []
    },
    {
      "cell_type": "code",
      "metadata": {
        "colab": {
          "base_uri": "https://localhost:8080/"
        },
        "id": "oJzFLNi6SYx3",
        "outputId": "b44fff33-b703-40d2-bc8a-72e901e60fe2"
      },
      "source": [
        "mylist.insert(0,'a')\n",
        "mylist"
      ],
      "execution_count": null,
      "outputs": [
        {
          "output_type": "execute_result",
          "data": {
            "text/plain": [
              "['a', 0, 1, 2, 3]"
            ]
          },
          "metadata": {
            "tags": []
          },
          "execution_count": 187
        }
      ]
    },
    {
      "cell_type": "code",
      "metadata": {
        "colab": {
          "base_uri": "https://localhost:8080/"
        },
        "id": "KS6pZwLaSck2",
        "outputId": "18edfe42-9524-4b4d-fdef-6981010b0390"
      },
      "source": [
        "mylist.extend('b')\n",
        "mylist"
      ],
      "execution_count": null,
      "outputs": [
        {
          "output_type": "execute_result",
          "data": {
            "text/plain": [
              "['a', 0, 1, 2, 3, 'b']"
            ]
          },
          "metadata": {
            "tags": []
          },
          "execution_count": 188
        }
      ]
    },
    {
      "cell_type": "code",
      "metadata": {
        "colab": {
          "base_uri": "https://localhost:8080/"
        },
        "id": "VhgvyG2lSvx2",
        "outputId": "9f6707f8-5c01-44f5-d4a8-c69d7c6c0b8a"
      },
      "source": [
        "print(mylist.pop(0))\n",
        "print(mylist.pop(-1))"
      ],
      "execution_count": null,
      "outputs": [
        {
          "output_type": "stream",
          "text": [
            "0\n",
            "3\n"
          ],
          "name": "stdout"
        }
      ]
    },
    {
      "cell_type": "code",
      "metadata": {
        "id": "t7K0rfbBS0WU",
        "colab": {
          "base_uri": "https://localhost:8080/"
        },
        "outputId": "f1938e00-1c24-441d-c68e-ff6e90e4a3d3"
      },
      "source": [
        "mylist.insert(4,mylist2)\n",
        "print(mylist)"
      ],
      "execution_count": null,
      "outputs": [
        {
          "output_type": "stream",
          "text": [
            "[1, 2, [4, 5, 6], 4, [4, 5, 6], 5, 6]\n"
          ],
          "name": "stdout"
        }
      ]
    },
    {
      "cell_type": "code",
      "metadata": {
        "id": "m4ovoDeGS02G",
        "colab": {
          "base_uri": "https://localhost:8080/"
        },
        "outputId": "cf7d67d7-3fb0-44a2-f64d-4e6d350827ee"
      },
      "source": [
        "mylist.extend(mylist2)\n",
        "print(mylist)"
      ],
      "execution_count": null,
      "outputs": [
        {
          "output_type": "stream",
          "text": [
            "[1, 2, [4, 5, 6], 4, [4, 5, 6], 5, 6, 4, 5, 6]\n"
          ],
          "name": "stdout"
        }
      ]
    },
    {
      "cell_type": "code",
      "metadata": {
        "colab": {
          "base_uri": "https://localhost:8080/"
        },
        "id": "I48JN48LTYcF",
        "outputId": "ec948836-f604-46ba-cde2-3232c59fcce9"
      },
      "source": [
        "mylist + mylist2"
      ],
      "execution_count": null,
      "outputs": [
        {
          "output_type": "execute_result",
          "data": {
            "text/plain": [
              "[1, 2, [4, 5, 6], 4, 5, 6, 4, 5, 6]"
            ]
          },
          "metadata": {
            "tags": []
          },
          "execution_count": 193
        }
      ]
    },
    {
      "cell_type": "code",
      "metadata": {
        "colab": {
          "base_uri": "https://localhost:8080/"
        },
        "id": "7zCoCO-e0LGg",
        "outputId": "c099984b-b259-48f9-f4fc-e37146c356c1"
      },
      "source": [
        "#quicker exercise\n",
        "s=' I started to like this course'\n",
        "s.split()\n",
        "list1 = s.split()\n",
        "print(list1)\n",
        "print(list1[0])\n",
        "print(list1[5])\n",
        "a = list1.reverse()\n",
        "print(a)\n",
        "len(list1)"
      ],
      "execution_count": null,
      "outputs": [
        {
          "output_type": "stream",
          "text": [
            "['I', 'started', 'to', 'like', 'this', 'course']\n",
            "I\n",
            "course\n",
            "None\n"
          ],
          "name": "stdout"
        },
        {
          "output_type": "execute_result",
          "data": {
            "text/plain": [
              "6"
            ]
          },
          "metadata": {
            "tags": []
          },
          "execution_count": 229
        }
      ]
    },
    {
      "cell_type": "code",
      "metadata": {
        "colab": {
          "base_uri": "https://localhost:8080/"
        },
        "id": "Ktibh1N_1FL0",
        "outputId": "80554828-760e-4c4d-81cf-2db9f26b1a96"
      },
      "source": [
        "#even quicker\n",
        "list2  = list(range(2,30))\n",
        "list2\n",
        "print(list2[0:2])\n",
        "print(list2[::-2])\n",
        "print(list2[13])\n",
        "b= list2.reverse()\n",
        "print(b)\n",
        "print(list2[::-1])"
      ],
      "execution_count": null,
      "outputs": [
        {
          "output_type": "stream",
          "text": [
            "[2, 3]\n",
            "[29, 27, 25, 23, 21, 19, 17, 15, 13, 11, 9, 7, 5, 3]\n",
            "15\n",
            "None\n",
            "[2, 3, 4, 5, 6, 7, 8, 9, 10, 11, 12, 13, 14, 15, 16, 17, 18, 19, 20, 21, 22, 23, 24, 25, 26, 27, 28, 29]\n"
          ],
          "name": "stdout"
        }
      ]
    },
    {
      "cell_type": "markdown",
      "metadata": {
        "id": "HfaJMB1l0Mef"
      },
      "source": [
        ""
      ]
    },
    {
      "cell_type": "markdown",
      "metadata": {
        "id": "yWbWu_7XT7tS"
      },
      "source": [
        "#Lab time!\n",
        "Hope you enjoyed this first intro to python data structures. Now beyond the basic data types such as integers, floats, you also know some data structures!\n",
        "\n",
        "You are getting good at this! Now move to Lab notebook and solve the exercises there! As before, first make a github repo \"ba765-session02\" and then push your notebook there before you come *back* to the classroom "
      ]
    },
    {
      "cell_type": "code",
      "metadata": {
        "id": "tqlDdlg_Tei9"
      },
      "source": [
        ""
      ],
      "execution_count": null,
      "outputs": []
    }
  ]
}