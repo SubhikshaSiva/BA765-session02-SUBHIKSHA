{
  "nbformat": 4,
  "nbformat_minor": 0,
  "metadata": {
    "colab": {
      "name": " BA765_Assignment_2-Subhiksha .ipynb",
      "provenance": [],
      "collapsed_sections": [],
      "include_colab_link": true
    },
    "kernelspec": {
      "name": "python3",
      "display_name": "Python 3"
    }
  },
  "cells": [
    {
      "cell_type": "markdown",
      "metadata": {
        "id": "view-in-github",
        "colab_type": "text"
      },
      "source": [
        "<a href=\"https://colab.research.google.com/github/SubhikshaSiva/BA765-session02-SUBHIKSHA/blob/main/BA765_Assignment_2_Subhiksha_.ipynb\" target=\"_parent\"><img src=\"https://colab.research.google.com/assets/colab-badge.svg\" alt=\"Open In Colab\"/></a>"
      ]
    },
    {
      "cell_type": "markdown",
      "metadata": {
        "id": "mzv8h94p1lp9"
      },
      "source": [
        "# Assignment 2\n",
        "\n",
        "Complete the questions below by answering each question using the appropriate variable name. Do not change the variable names.  \n",
        "\n",
        "To keep the file sizes small, I provide you with very low volume of data, but this does not mean you should use visual inspection. For example, if the maximum value of a list is asked, find it via code, not via visual inspection. \n",
        "\n",
        "Once you completed this assignment, upload the notebook to your GitHub repository (same one that you used for assignment 1) and export your work also as `a2.py` (with this name and format) and submit to QuestromTools course site.\n",
        "\n",
        "ENJOY!"
      ]
    },
    {
      "cell_type": "markdown",
      "metadata": {
        "id": "81VWGDeE2Khh"
      },
      "source": [
        "# Question 1:\n"
      ]
    },
    {
      "cell_type": "code",
      "metadata": {
        "id": "6S3uH33EH4k6"
      },
      "source": [
        "# STARTER CODE\n",
        "\n",
        "# imports\n",
        "import requests\n",
        "\n",
        "# the URL\n",
        "URL = \"https://www.metaweather.com/api/location/search/?query=boston\"\n",
        "\n",
        "# the API response setup for this question\n",
        "resp = requests.get(URL).json()"
      ],
      "execution_count": 1,
      "outputs": []
    },
    {
      "cell_type": "code",
      "metadata": {
        "id": "By9Oc7syIW4u",
        "colab": {
          "base_uri": "https://localhost:8080/"
        },
        "outputId": "5704376d-ce16-4879-bd2a-a744a0f33606"
      },
      "source": [
        "# Q1:  save a variable q1_1, which _extracts_ the dictionary from the variable resp provided\n",
        "#      to you in the starter code for Question 1\n",
        "print(resp[0])\n",
        "#accessing the first element of the list , which shows a dictionary\n",
        "q1_1=resp[0]\n",
        "print(q1_1)\n",
        "type(q1_1)\n",
        "\n",
        "\n",
        "\n"
      ],
      "execution_count": 2,
      "outputs": [
        {
          "output_type": "stream",
          "text": [
            "{'title': 'Boston', 'location_type': 'City', 'woeid': 2367105, 'latt_long': '42.358631,-71.056702'}\n",
            "{'title': 'Boston', 'location_type': 'City', 'woeid': 2367105, 'latt_long': '42.358631,-71.056702'}\n"
          ],
          "name": "stdout"
        },
        {
          "output_type": "execute_result",
          "data": {
            "text/plain": [
              "dict"
            ]
          },
          "metadata": {
            "tags": []
          },
          "execution_count": 2
        }
      ]
    },
    {
      "cell_type": "code",
      "metadata": {
        "id": "g-7uAzeFI0_f",
        "colab": {
          "base_uri": "https://localhost:8080/"
        },
        "outputId": "e5c266f6-6deb-4b5f-b8e2-a52bd28ba711"
      },
      "source": [
        "# Q2: In the variable q1_2, save the keys of the dictionary in q1 as a list\n",
        "q1_2 = list(q1_1.keys())\n",
        "print(q1_2)\n",
        "\n"
      ],
      "execution_count": 3,
      "outputs": [
        {
          "output_type": "stream",
          "text": [
            "['title', 'location_type', 'woeid', 'latt_long']\n"
          ],
          "name": "stdout"
        }
      ]
    },
    {
      "cell_type": "code",
      "metadata": {
        "id": "hzwzYD3vI1H1",
        "colab": {
          "base_uri": "https://localhost:8080/"
        },
        "outputId": "0a73329e-1160-49b9-a880-ae54d61424f7"
      },
      "source": [
        "# Q3: extract the latitude (lat) and longitude (lng) from the dictionary\n",
        "#     Each value should be a float\n",
        "#     TIP: the dictionary key provides guidance on the order\n",
        "\n",
        "#taking values alone and assigning them to a new list\n",
        "temp = list(q1_1.values())\n",
        "print(temp)\n",
        "#takig the third position and assigning it to another list called \"list_lat_lng\"\n",
        "list_lat_lng=temp[3]\n",
        "#splitting \"list_lat_lng\"\n",
        "b = list_lat_lng.split(',')\n",
        "print(b)\n",
        "lat = b[0]\n",
        "lng = b[1]\n",
        "print(\"latitiude is\",lat)\n",
        "print(\"longitude is\",lng)"
      ],
      "execution_count": 48,
      "outputs": [
        {
          "output_type": "stream",
          "text": [
            "['Boston', 'City', 2367105, '42.358631,-71.056702']\n",
            "['42.358631', '-71.056702']\n",
            "latitiude is 42.358631\n",
            "longitude is -71.056702\n"
          ],
          "name": "stdout"
        }
      ]
    },
    {
      "cell_type": "code",
      "metadata": {
        "id": "qUsFGz-4I1LU",
        "colab": {
          "base_uri": "https://localhost:8080/"
        },
        "outputId": "f6fede14-1273-4e45-b956-cd795ca6956c"
      },
      "source": [
        "# Q4: using the dictionary key woeid from q1, keep only the even numbers from the id\n",
        "#     save the values as seperate entries in a list. Save this list as the variable q1_4\n",
        "ID = temp[2]\n",
        "ID_Numbers = [int(i) for i in str(ID)]\n",
        "print(ID_Numbers)\n",
        "q1_4 = []\n",
        "for num in ID_Numbers:\n",
        "  if num % 2 == 0:\n",
        "       print(ID_Numbers[num])\n",
        "       q1_4.append(ID_Numbers[num])\n",
        "print(q1_4)"
      ],
      "execution_count": 49,
      "outputs": [
        {
          "output_type": "stream",
          "text": [
            "[2, 3, 6, 7, 1, 0, 5]\n",
            "6\n",
            "5\n",
            "2\n",
            "[6, 5, 2]\n"
          ],
          "name": "stdout"
        }
      ]
    },
    {
      "cell_type": "markdown",
      "metadata": {
        "id": "WhPv5Ew0Mq-k"
      },
      "source": [
        "# Question 2\n",
        "\n",
        "You have been provided a file that can be read in with the following code:\n",
        "\n",
        "```\n",
        "import pickle\n",
        "with open('q2_updated.pkl', 'rb') as file:\n",
        "  jokes = pickle.load(file)\n",
        "```\n",
        "\n",
        "In your session, `jokes` is a list of dictionaries.  You will use this object to answer the questions below.\n",
        "\n",
        "> Hint:  If you are using Google Colab, you will need to upload the `q2.pkl` file in your gDrive or to the Colab Sesssion. "
      ]
    },
    {
      "cell_type": "code",
      "metadata": {
        "colab": {
          "base_uri": "https://localhost:8080/"
        },
        "id": "nrwYf9714K6M",
        "outputId": "b9164ccd-deab-4b2e-c76e-fbb2a66a46ed"
      },
      "source": [
        "import pickle\n",
        "jokes = pickle.load(open('q2_updated.pkl', \"rb\"))\n",
        "print(jokes)\n",
        "\n"
      ],
      "execution_count": 50,
      "outputs": [
        {
          "output_type": "stream",
          "text": [
            "[{'type': 'success', 'value': {'id': 100, 'joke': 'Chuck Norris grinds his coffee with his teeth and boils the water with his own rage.', 'categories': ['plain']}}, {'type': 'success', 'value': {'id': 150, 'joke': 'Superman once watched an episode of Walker, Texas Ranger. He then cried himself to sleep.', 'categories': ['dad joke']}}, {'type': 'success', 'value': {'id': 250, 'joke': 'The truth will set you free. Unless Chuck Norris has you, in which case, forget it buddy!', 'categories': ['bad joke']}}, {'type': 'success', 'value': {'id': 480, 'joke': 'The class object inherits from Chuck Norris', 'categories': ['nerdy']}}, {'type': 'success', 'value': {'id': 490, 'joke': \"Chuck Norris doesn't need to use AJAX because pages are too afraid to postback anyways.\", 'categories': ['nerdy']}}]\n"
          ],
          "name": "stdout"
        }
      ]
    },
    {
      "cell_type": "code",
      "metadata": {
        "id": "ZbHfSisTMC8A",
        "colab": {
          "base_uri": "https://localhost:8080/"
        },
        "outputId": "e3a4624f-1ee7-4ef4-9b3b-9ff285bcb0d2"
      },
      "source": [
        "# Q1:  q2_1 should represent a set of the values from the categories key\n",
        "q2_1 = []\n",
        "for i in jokes:\n",
        "  q2_1.append(i['value']['categories'])\n",
        "print(q2_1)"
      ],
      "execution_count": 51,
      "outputs": [
        {
          "output_type": "stream",
          "text": [
            "[['plain'], ['dad joke'], ['bad joke'], ['nerdy'], ['nerdy']]\n"
          ],
          "name": "stdout"
        }
      ]
    },
    {
      "cell_type": "code",
      "metadata": {
        "id": "nVZOsdUi0BLU"
      },
      "source": [
        "#from google.colab import drive\n",
        "#drive.mount('/content/drive/')"
      ],
      "execution_count": 52,
      "outputs": []
    },
    {
      "cell_type": "code",
      "metadata": {
        "id": "Wpc1ehwYN0bP",
        "colab": {
          "base_uri": "https://localhost:8080/"
        },
        "outputId": "63b4a313-d2c7-4cf2-85e7-d9e038f2fef5"
      },
      "source": [
        "# Q2: What is the largest value (max) across the key id.  Save this value as q2_2\n",
        "ab = []\n",
        "for j in jokes:\n",
        "  ab.append(j['value']['id'])\n",
        "print(ab)\n",
        "q2_2 = max(ab)\n",
        "print(q2_2)\n"
      ],
      "execution_count": 53,
      "outputs": [
        {
          "output_type": "stream",
          "text": [
            "[100, 150, 250, 480, 490]\n",
            "490\n"
          ],
          "name": "stdout"
        }
      ]
    },
    {
      "cell_type": "code",
      "metadata": {
        "id": "NDBlwbi3N0gY",
        "colab": {
          "base_uri": "https://localhost:8080/"
        },
        "outputId": "8aec567e-a8f0-459e-b2ad-d0df0c3f611f"
      },
      "source": [
        "# Q3: Each entry of jokes has a joke key.  This is a sentence pulled randomly from an online jokes api.  \n",
        "#     Remove the following characters '.,!' (punctuation present in these jokes)\n",
        "#     Make the text lower case.\n",
        "#     Add each word in each entry as a key to a dictionary you store in the variable q2_3 below.\n",
        "#     The value for each key should represent the total number of times the word appeared across the jokes object\n",
        "#     Summary: q2_3 should be a dictionary of word:count pairs, where count is the number of times the word appeared\n",
        "#              across all entries of jokes in the joke key\n",
        "#\n",
        "joke_key = []\n",
        "for k in jokes:\n",
        "  joke_key.append(k['value']['joke'])\n",
        "print(joke_key)\n",
        "str1 = \"\"\n",
        "for i in joke_key:\n",
        "  str1+= i\n",
        "string1 = str1\n",
        "print(string1)\n",
        "punc  = './''!'\n",
        "for ele in string1:\n",
        "    if ele in punc:\n",
        "        string1 = string1.replace(ele, \"\")\n",
        "string2 = string1.lower()\n",
        "print(string2)\n",
        "abc = string2.split()\n",
        "for z in str(abc):\n",
        "  q2_3 = dict.fromkeys(string2.split(),abc.count(z))\n",
        "print(q2_3)\n",
        "print(type(q2_3))"
      ],
      "execution_count": 62,
      "outputs": [
        {
          "output_type": "stream",
          "text": [
            "['Chuck Norris grinds his coffee with his teeth and boils the water with his own rage.', 'Superman once watched an episode of Walker, Texas Ranger. He then cried himself to sleep.', 'The truth will set you free. Unless Chuck Norris has you, in which case, forget it buddy!', 'The class object inherits from Chuck Norris', \"Chuck Norris doesn't need to use AJAX because pages are too afraid to postback anyways.\"]\n",
            "Chuck Norris grinds his coffee with his teeth and boils the water with his own rage.Superman once watched an episode of Walker, Texas Ranger. He then cried himself to sleep.The truth will set you free. Unless Chuck Norris has you, in which case, forget it buddy!The class object inherits from Chuck NorrisChuck Norris doesn't need to use AJAX because pages are too afraid to postback anyways.\n",
            "chuck norris grinds his coffee with his teeth and boils the water with his own ragesuperman once watched an episode of walker, texas ranger he then cried himself to sleepthe truth will set you free unless chuck norris has you, in which case, forget it buddythe class object inherits from chuck norrischuck norris doesn't need to use ajax because pages are too afraid to postback anyways\n",
            "{'chuck': 0, 'norris': 0, 'grinds': 0, 'his': 0, 'coffee': 0, 'with': 0, 'teeth': 0, 'and': 0, 'boils': 0, 'the': 0, 'water': 0, 'own': 0, 'ragesuperman': 0, 'once': 0, 'watched': 0, 'an': 0, 'episode': 0, 'of': 0, 'walker,': 0, 'texas': 0, 'ranger': 0, 'he': 0, 'then': 0, 'cried': 0, 'himself': 0, 'to': 0, 'sleepthe': 0, 'truth': 0, 'will': 0, 'set': 0, 'you': 0, 'free': 0, 'unless': 0, 'has': 0, 'you,': 0, 'in': 0, 'which': 0, 'case,': 0, 'forget': 0, 'it': 0, 'buddythe': 0, 'class': 0, 'object': 0, 'inherits': 0, 'from': 0, 'norrischuck': 0, \"doesn't\": 0, 'need': 0, 'use': 0, 'ajax': 0, 'because': 0, 'pages': 0, 'are': 0, 'too': 0, 'afraid': 0, 'postback': 0, 'anyways': 0}\n",
            "<class 'dict'>\n"
          ],
          "name": "stdout"
        }
      ]
    },
    {
      "cell_type": "markdown",
      "metadata": {
        "id": "Y1PXAz_7y2ze"
      },
      "source": [
        "# Question 3\n",
        "\n",
        "Write a function called `guessing_game` that satisfies the following requirements:\n",
        "\n",
        "1.  When the function is called, the user is prompted to guess a word\n",
        "1.  The function, internally, will randomly choose a word for the game.  The population of word (the word list) is shown below.\n",
        "1.  If the user does not guess the proper word, the user should be prompted again to try another guess\n",
        "1.  The user is only allowed 3 guesses.  If the user fails to guess the chosen word after 3 attempts, the message `Sorry, the game is over.` should be printed to the screen.\n",
        "1.  If the user enters a word not part of the list below, the message `That word is not part of the vocabulary.` should be printed to the screen.  However, if this situation occurs during the 3rd failed guess, only the message in step 4 should be printed.\n",
        "1.  If the user correctly guesses the word, the message `Correct! Well Done.` should be printed on the screen.\n",
        "1.  If a string is not input by the user, the function should print `You did not guess a string, Game Over!` and end the game. You can use `string` package as in `string.ascii_letters` to guarantee that the entry is a string semantically.\n",
        "\n",
        "\n",
        "\n",
        "The word list that should be used by the function:\n",
        "\n",
        "- `numpy`\n",
        "- `seaborn`\n",
        "- `pandas`\n",
        "- `pantab`\n",
        "- `spacy`\n",
        "- `requests`\n",
        "- `tensorflow`\n",
        "\n"
      ]
    },
    {
      "cell_type": "code",
      "metadata": {
        "colab": {
          "base_uri": "https://localhost:8080/"
        },
        "id": "ZwI0fTvJPY3z",
        "outputId": "ae83b6df-2de3-4089-dfb9-e93d423e83d7"
      },
      "source": [
        "import random\n",
        "import string\n",
        "\n",
        "WORDS = ('numpy','seaborn','pandas','pantab','spacy','requests','tensorflow')\n",
        "word = random.choice(WORDS)\n",
        "correct = word\n",
        "word_guess = ''\n",
        "store_word = ''\n",
        "count = 0\n",
        "limit = 3\n",
        "\n",
        "print('Welcome to \"Guess the Word Game!\"')\n",
        "print(WORDS)\n",
        "\n",
        "while count < limit:\n",
        "    word_guess = input('Guess the word: ')\n",
        "\n",
        "    if word_guess== word:\n",
        "        print('Congrats! Well done')\n",
        "        store_word += word_guess\n",
        "        count += 1\n",
        "        break\n",
        "\n",
        "    elif word_guess != word:\n",
        "        print('The word is not part of the vocabulary')\n",
        "        count += 1\n",
        "\n",
        "    elif word_guess in WORDS:\n",
        "      print('Try another word')\n",
        "      count+=1\n",
        "\n",
        "    elif word_guess != string.ascii_letters:\n",
        "      print('You did not guess a string. Game over')\n",
        "  else: \n",
        "  print('Sorry, the game is over', word)\n",
        "\n"
      ],
      "execution_count": null,
      "outputs": [
        {
          "output_type": "stream",
          "text": [
            "Welcome to \"Guess the Word Game!\"\n",
            "('numpy', 'seaborn', 'pandas', 'pantab', 'spacy', 'requests', 'tensorflow')\n",
            "Guess the word: \n",
            "The word is not part of the vocabulary\n",
            "Guess the word: 123'\n",
            "The word is not part of the vocabulary\n"
          ],
          "name": "stdout"
        }
      ]
    },
    {
      "cell_type": "code",
      "metadata": {
        "id": "TgsaymJ3igGZ"
      },
      "source": [
        ""
      ],
      "execution_count": null,
      "outputs": []
    }
  ]
}